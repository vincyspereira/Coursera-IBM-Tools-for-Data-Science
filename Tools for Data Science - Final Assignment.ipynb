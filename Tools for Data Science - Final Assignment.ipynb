{
 "cells": [
  {
   "cell_type": "markdown",
   "id": "ba19ed55",
   "metadata": {},
   "source": [
    "# My Jupyter Notebook on IBM Watson Studio"
   ]
  },
  {
   "cell_type": "markdown",
   "id": "f4a91c4e",
   "metadata": {},
   "source": [
    "**Vincent Stanislaus Pereira**\n",
    "\n",
    "Data Scientist & Machine Learning Engineer"
   ]
  },
  {
   "cell_type": "markdown",
   "id": "922a2b6e",
   "metadata": {},
   "source": [
    "*I am interested in Data Science because it bridges the gap between abstraction and decision making. Further, Data Scientists & Machine Learning Engineers are in great demand and at the forefront of the coming AI revolution*"
   ]
  },
  {
   "cell_type": "markdown",
   "id": "566db154",
   "metadata": {},
   "source": [
    "### The code below will print my name, my desired occupation and the company I would like to work for"
   ]
  },
  {
   "cell_type": "code",
   "execution_count": 1,
   "id": "f4f4d8c2",
   "metadata": {},
   "outputs": [
    {
     "name": "stdout",
     "output_type": "stream",
     "text": [
      "Hi, my name is Vincent Stanislaus Pereira and I would like to work at IBM as a Data Scientist & Machine Learning Engineer.\n"
     ]
    }
   ],
   "source": [
    "# Intialising Variables\n",
    "name = \"Vincent Stanislaus Pereira\"\n",
    "occupation = \"Data Scientist & Machine Learning Engineer\"\n",
    "company = \"IBM\"\n",
    "\n",
    "# Printing a statement with variables\n",
    "print(\"Hi, my name is {a} and I would like to work at {c} as a {b}.\" . format(a = name, b = occupation, c = company))"
   ]
  },
  {
   "cell_type": "markdown",
   "id": "3ee1f0f8",
   "metadata": {},
   "source": [
    "## Horizontal Rule:\n",
    "\n",
    "**Magenta Line (Thickness = 1 px)**\n",
    "<hr style=\"border:1px solid magenta\"> </hr>\n",
    "\n",
    "\n",
    "## Bulleted Lists, Numbered Lists with Syntax Highlighting and ~~Strikethrough~~:\n",
    "**Famous Quotes on Data Science:**\n",
    "- Vincent Granville: (Normal Font)\n",
    "  + **“<u>Talented data scientists</u> leverage data that everybody sees; <u>visionary data scientists</u> leverage data that nobody sees.”** (Bold & Underline)\n",
    "- <u>Ronald Coase</u>: (Normal Font & Underline)\n",
    "  + **“<u>_Torture_</u> the data, and it will <u>_confess_</u> to anything.”** (Bold, Italics & Underline)\n",
    "- <u>_William Edwards Deming</u>:_ (Italics & Underline)\n",
    "  + **“In God we trust. All others must bring data.”** (Bold)\n",
    "    * **“Without data you’re just another person with an opinion.”** (Bold)\n",
    "      1. _“If you can't describe <u>what you are doing as a process</u>, you don't know <u>what you are doing</u>.”_ (Italics & Underline)\n",
    "      2. **_“A <u>bad system will beat</u> a ~~bad person~~ good person every time.”_** (Bold, Italics, Strikethrough & Underline)\n",
    "\n",
    "\n",
    "**Red Line (Thickness = 2 px)**\n",
    "<hr style=\"border:2px solid red\"> </hr>\n",
    "\n",
    "\n",
    "## Strikethrough and Hyperlink:\n",
    "*If interested in more such ~~misquotes~~ quotes, ~~please press~~ kindly click on this Link:*\n",
    "https://medium.com/data-professor/101-data-science-quotes-afad20d1e6ee#:~:text=“The%20best%20way%20to%20learn,is%20to%20do%20data%20science.”&text=“Errors%20using%20inadequate%20data%20are,using%20no%20data%20at%20all.”&text=“Data%20are%20just%20summaries%20of%20thousands%20of%20stories.”&text=“Big%20data%20is%20at%20the,mobile%20to%20cloud%20to%blueaming.”\n",
    "\n",
    "\n",
    "**Blue Line (Thickness = 3 px)**\n",
    "<hr style=\"border:3px solid blue\"> </hr>\n",
    "\n",
    "\n",
    "## Blocked Quotes with Syntax Highlighting:\n",
    ">I think data science is the future of data. Data science is the future of applied econometrics, I would definitely say, we did a lot of public evaluation but it was not formal.\n",
    "**<u>Data science</u>, in my opinion, <u>is the future</u> of this kind of work.**\n",
    "_It is the only way to do it efficiently, replicably, and get great results. You have a lot more tools and a lot more flexibility in the way you can collect data, the way you can exploit multiple databases all at once, and produce something really usable as well._\n",
    "**_Data science is the ~~past~~ future, and it is better to be on the <u>cutting-edge</u> than left behind._**/\n",
    "\n",
    "\n",
    "**Green Line (Thickness = 4 px)**\n",
    "<hr style=\"border:4px solid green\"> </hr>\n",
    "\n",
    "\n",
    "## Nested Quotes with Syntax Highlighting:\n",
    ">I think data science is the future of data. Data science is the future of applied econometrics, I would definitely say, we did a lot of public evaluation but it was not formal.\n",
    ">>**<u>Data science</u>, in my opinion, <u>is the future</u> of this kind of work.**\n",
    ">>>_It is the only way to do it efficiently, replicably, and get great results. You have a lot more tools and a lot more flexibility in the way you can collect data, the way you can exploit multiple databases all at once, and produce something really usable as well._\n",
    ">>>>**_Data science is the ~~past~~ future, and it is better to be on the <u>cutting-edge</u> than left behind._**/\n",
    "\n",
    "\n",
    "**Yellow Line (Thickness = 5 px)**\n",
    "<hr style=\"border:5px solid yellow\"> </hr>\n",
    "\n",
    "\n",
    "## <center><u>Table</u></center>\n",
    "\n",
    "|Sr. No.| Name | Occupation | Company |\n",
    "|:-----:|:-----|:----------:|--------:|\n",
    "|1.|Vincent S. Pereira|Data Scientist & Machine Learning Engineer|IBM|\n",
    "|2.|Jack P. Dorsey|Founder & CEO|Twitter|\n",
    "|3.|Elon R. Musk|Founder & CEO|SpaceX|\n",
    "|4.|Jeffrey P. Bezos|Founder & CEO|Amazon|\n",
    "\n",
    "**Note: _Alignment of Columns_**\n",
    "1. Centre Aligned Columns\n",
    "   * \"Sr. No.\"\n",
    "   * \"Occupation\"\n",
    "2. Left Aligned Columns\n",
    "   - \"Name\"\n",
    "3. Right Aligned Columns\n",
    "   + \"Company\"\n",
    "\n",
    "\n",
    "**Black Line (Thickness = 6 px)**\n",
    "<hr style=\"border:6px solid black\"> </hr>\n"
   ]
  }
 ],
 "metadata": {
  "kernelspec": {
   "display_name": "Python 3",
   "language": "python",
   "name": "python3"
  },
  "language_info": {
   "codemirror_mode": {
    "name": "ipython",
    "version": 3
   },
   "file_extension": ".py",
   "mimetype": "text/x-python",
   "name": "python",
   "nbconvert_exporter": "python",
   "pygments_lexer": "ipython3",
   "version": "3.8.8"
  }
 },
 "nbformat": 4,
 "nbformat_minor": 5
}
